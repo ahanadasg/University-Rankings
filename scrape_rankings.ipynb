{
  "nbformat": 4,
  "nbformat_minor": 0,
  "metadata": {
    "colab": {
      "provenance": []
    },
    "kernelspec": {
      "name": "python3",
      "display_name": "Python 3"
    },
    "language_info": {
      "name": "python"
    }
  },
  "cells": [
    {
      "cell_type": "code",
      "execution_count": 3,
      "metadata": {
        "colab": {
          "base_uri": "https://localhost:8080/"
        },
        "id": "3dijlP1u0FX_",
        "outputId": "cc8feb71-22a8-4e8a-cedb-20943129a725"
      },
      "outputs": [
        {
          "output_type": "stream",
          "name": "stdout",
          "text": [
            "Data saved to qs_world_university_rankings.xlsx\n"
          ]
        }
      ],
      "source": [
        "import requests\n",
        "from bs4 import BeautifulSoup\n",
        "import pandas as pd\n",
        "\n",
        "# Specify the URL for the QS World University Rankings Wikipedia page\n",
        "qs_rankings_url = \"https://en.wikipedia.org/wiki/QS_World_University_Rankings\"\n",
        "\n",
        "# Send a GET request to the Wikipedia page\n",
        "response = requests.get(qs_rankings_url)\n",
        "html_content = response.text\n",
        "\n",
        "# Parse the HTML content using BeautifulSoup\n",
        "soup = BeautifulSoup(html_content, 'html.parser')\n",
        "\n",
        "# Find the table containing the university rankings based on class name\n",
        "table = soup.find(\"table\", class_=\"wikitable\")\n",
        "\n",
        "# Initialize empty lists to store data\n",
        "names = []\n",
        "ranks_2024 = []\n",
        "ranks_2023 = []\n",
        "\n",
        "# Iterate through rows in the table\n",
        "for row in table.find_all(\"tr\")[1:]:\n",
        "    columns = row.find_all(\"td\")\n",
        "\n",
        "    if len(columns) >= 3:\n",
        "        name = columns[0].text.strip()\n",
        "        rank_2024 = columns[1].text.strip()\n",
        "        rank_2023 = columns[2].text.strip()\n",
        "\n",
        "        names.append(name)\n",
        "        ranks_2024.append(rank_2024)\n",
        "        ranks_2023.append(rank_2023)\n",
        "\n",
        "# Create a DataFrame using pandas\n",
        "data = {\"University Name\": names, \"2024 Ranking\": ranks_2024, \"2023 Ranking\": ranks_2023}\n",
        "df = pd.DataFrame(data)\n",
        "\n",
        "# Save the DataFrame to an Excel file\n",
        "df.to_excel(\"qs_world_university_rankings.xlsx\", index=False)\n",
        "\n",
        "print(\"Data saved to qs_world_university_rankings.xlsx\")\n"
      ]
    }
  ]
}