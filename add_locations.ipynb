{
  "nbformat": 4,
  "nbformat_minor": 0,
  "metadata": {
    "colab": {
      "provenance": []
    },
    "kernelspec": {
      "name": "python3",
      "display_name": "Python 3"
    },
    "language_info": {
      "name": "python"
    }
  },
  "cells": [
    {
      "cell_type": "code",
      "execution_count": null,
      "metadata": {
        "id": "qDc2UQ1v-Zx_"
      },
      "outputs": [],
      "source": [
        "import pandas as pd\n",
        "\n",
        "# Read the Excel file into a DataFrame\n",
        "input_excel_file = 'qs_world_university_rankings.xlsx'\n",
        "df = pd.read_excel(input_excel_file)\n",
        "\n",
        "# Dictionary to map university names to locations\n",
        "location_dict = {\n",
        "    \"Massachusetts Institute of Technology (MIT)\": \"United States\",\n",
        "    \"University of Cambridge\": \"United Kingdom\",\n",
        "    \"University of Oxford\": \"United Kingdom\",\n",
        "    \"Harvard University\": \"United States\",\n",
        "    \"Stanford University\": \"United States\",\n",
        "    \"Imperial College London\": \"United Kingdom\",\n",
        "    \"ETH Zurich\": \"Switzerland\",\n",
        "    \"National University of Singapore\": \"Singapore\",\n",
        "    \"University College London\": \"United Kingdom\",\n",
        "    \"University of California, Berkeley\": \"United States\"\n",
        "}\n",
        "\n",
        "# Add a \"Location\" column to the DataFrame based on the location_dict\n",
        "df[\"Location\"] = df[\"University Name\"].map(location_dict)\n",
        "\n",
        "# Save the updated DataFrame back to the same Excel file\n",
        "output_excel_file = 'qs_world_university_rankings_with_locations.xlsx'\n",
        "df.to_excel(output_excel_file, index=False)\n",
        "\n",
        "print(f\"Data with locations saved to {output_excel_file}\")\n"
      ]
    }
  ]
}