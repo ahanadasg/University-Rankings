{
  "nbformat": 4,
  "nbformat_minor": 0,
  "metadata": {
    "colab": {
      "provenance": []
    },
    "kernelspec": {
      "name": "python3",
      "display_name": "Python 3"
    },
    "language_info": {
      "name": "python"
    }
  },
  "cells": [
    {
      "cell_type": "code",
      "execution_count": null,
      "metadata": {
        "id": "WEsjiicj-rWv"
      },
      "outputs": [],
      "source": [
        "import pandas as pd\n",
        "import matplotlib.pyplot as plt\n",
        "import numpy as np\n",
        "\n",
        "# Read the Excel file into a DataFrame\n",
        "input_excel_file = 'qs_world_university_rankings_with_locations.xlsx'\n",
        "df = pd.read_excel(input_excel_file)\n",
        "\n",
        "# Sort the DataFrame by ranking\n",
        "df_sorted = df.sort_values(by='2024 Ranking')\n",
        "\n",
        "# Set up data for the plot\n",
        "universities = df_sorted['University Name']\n",
        "ranking_2024 = df_sorted['2024 Ranking']\n",
        "ranking_2023 = df_sorted['2023 Ranking']\n",
        "locations = df_sorted['Location']\n",
        "\n",
        "# Bar Plot for Rankings in 2024 and 2023\n",
        "plt.figure(figsize=(12, 6))\n",
        "plt.barh(universities, ranking_2024, color='skyblue', label='2024')\n",
        "plt.barh(universities, -ranking_2023, color='orange', label='2023')\n",
        "plt.xlabel('Ranking')\n",
        "plt.ylabel('University Name')\n",
        "plt.title('University Rankings in 2024 and 2023')\n",
        "plt.legend()\n",
        "\n",
        "# Display the plot\n",
        "plt.gca().invert_yaxis()  # Invert y-axis to show higher rank at the top\n",
        "plt.tight_layout()\n",
        "plt.show()\n",
        "\n",
        "# Pie Chart for University Locations\n",
        "location_counts = locations.value_counts()\n",
        "plt.figure(figsize=(8, 8))\n",
        "plt.pie(location_counts, labels=location_counts.index, autopct='%1.1f%%', startangle=140)\n",
        "plt.title('Distribution of University Locations')\n",
        "plt.axis('equal')  # Equal aspect ratio ensures that pie is drawn as a circle\n",
        "\n",
        "# Display the pie chart\n",
        "plt.tight_layout()\n",
        "plt.show()\n",
        "\n"
      ]
    }
  ]
}